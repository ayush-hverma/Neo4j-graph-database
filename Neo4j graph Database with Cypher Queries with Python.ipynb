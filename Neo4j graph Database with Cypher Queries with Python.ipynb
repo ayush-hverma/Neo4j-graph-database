{
 "cells": [
  {
   "cell_type": "code",
   "execution_count": 1,
   "id": "139b3c46-c2a6-41be-958b-39c86f69d638",
   "metadata": {},
   "outputs": [
    {
     "name": "stdout",
     "output_type": "stream",
     "text": [
      "Collecting neo4j\n",
      "  Using cached neo4j-5.28.1-py3-none-any.whl.metadata (5.9 kB)\n",
      "Requirement already satisfied: pytz in c:\\users\\ayush\\anaconda3\\lib\\site-packages (from neo4j) (2024.1)\n",
      "Using cached neo4j-5.28.1-py3-none-any.whl (312 kB)\n",
      "Installing collected packages: neo4j\n",
      "Successfully installed neo4j-5.28.1\n"
     ]
    }
   ],
   "source": [
    "!pip install neo4j"
   ]
  },
  {
   "cell_type": "code",
   "execution_count": 5,
   "id": "512d12a9-6046-4359-85d1-b5426f16aea9",
   "metadata": {},
   "outputs": [],
   "source": [
    "from neo4j import GraphDatabase"
   ]
  },
  {
   "cell_type": "code",
   "execution_count": 6,
   "id": "5f34df9c-8863-42f2-a189-bafe71b9b380",
   "metadata": {},
   "outputs": [],
   "source": [
    "URI = \"bolt://localhost:7687\"\n",
    "USERNAME = \"neo4j\"\n",
    "PASSWORD = \"12345678\""
   ]
  },
  {
   "cell_type": "code",
   "execution_count": 7,
   "id": "b062facc-59ec-40d8-a972-fb38a49ee0e7",
   "metadata": {},
   "outputs": [
    {
     "name": "stdout",
     "output_type": "stream",
     "text": [
      "Connected to Neo4j\n"
     ]
    }
   ],
   "source": [
    "class Neo4jDatabase:\n",
    "    def __init__(self, uri, user, password):\n",
    "        self.driver = GraphDatabase.driver(uri, auth=(user, password))\n",
    "\n",
    "    def close(self):\n",
    "        self.driver.close()\n",
    "\n",
    "    def run_query(self, query, parameters=None):\n",
    "        with self.driver.session() as session:\n",
    "            return session.run(query, parameters)\n",
    "\n",
    "db = Neo4jDatabase(URI, USERNAME, PASSWORD)\n",
    "print(\"Connected to Neo4j\")"
   ]
  },
  {
   "cell_type": "code",
   "execution_count": 8,
   "id": "b37f797e-f00d-4fc3-9873-c6125475909e",
   "metadata": {},
   "outputs": [
    {
     "name": "stdout",
     "output_type": "stream",
     "text": [
      "Nodes Created\n"
     ]
    }
   ],
   "source": [
    "create_nodes_query = \"\"\"\n",
    "CREATE (:Person {name: 'Alice', age: 25}),\n",
    "       (:Person {name: 'Bob', age: 30});\n",
    "\"\"\"\n",
    "db.run_query(create_nodes_query)\n",
    "print(\"Nodes Created\")\n"
   ]
  },
  {
   "cell_type": "code",
   "execution_count": 9,
   "id": "ac0f3a31-5a20-46d1-96a5-760b23cc5222",
   "metadata": {},
   "outputs": [
    {
     "name": "stdout",
     "output_type": "stream",
     "text": [
      "Relationship Created\n"
     ]
    }
   ],
   "source": [
    "relationship_query = \"\"\"\n",
    "MATCH (a:Person {name: 'Alice'}), (b:Person {name: 'Bob'})\n",
    "CREATE (a)-[:FRIENDS_WITH]->(b);\n",
    "\"\"\"\n",
    "db.run_query(relationship_query)\n",
    "print(\"Relationship Created\")\n"
   ]
  },
  {
   "cell_type": "code",
   "execution_count": 10,
   "id": "466ffcbb-4f70-41fa-a230-5efc44ba8bb2",
   "metadata": {},
   "outputs": [
    {
     "name": "stdout",
     "output_type": "stream",
     "text": [
      "Name: Alice, Age: 26\n",
      "Name: Alice, Age: 26\n",
      "Name: Alice, Age: 26\n",
      "Name: Alice, Age: 26\n",
      "Name: Bob, Age: 30\n",
      "Name: Alice, Age: 26\n",
      "Name: Bob, Age: 30\n",
      "Name: Alice, Age: 26\n",
      "Name: Bob, Age: 30\n",
      "Name: Alice, Age: 25\n",
      "Name: Bob, Age: 30\n",
      "Name: Alice, Age: 25\n",
      "Name: Alice, Age: 25\n",
      "Name: Bob, Age: 30\n"
     ]
    }
   ],
   "source": [
    "fetch_nodes_query = \"MATCH (p:Person) RETURN p.name, p.age\"\n",
    "\n",
    "with db.driver.session() as session:\n",
    "    result = session.run(fetch_nodes_query)\n",
    "    records = list(result)  \n",
    "\n",
    "for record in records:\n",
    "    print(f\"Name: {record['p.name']}, Age: {record['p.age']}\")\n"
   ]
  },
  {
   "cell_type": "code",
   "execution_count": 11,
   "id": "103d492d-26ff-4134-be16-a51b8fe38fc6",
   "metadata": {},
   "outputs": [
    {
     "name": "stdout",
     "output_type": "stream",
     "text": [
      "Alice -[FRIENDS_WITH]-> Bob\n",
      "Alice -[FRIENDS_WITH]-> Bob\n",
      "Alice -[FRIENDS_WITH]-> Bob\n",
      "Alice -[FRIENDS_WITH]-> Bob\n",
      "Alice -[FRIENDS_WITH]-> Bob\n",
      "Alice -[FRIENDS_WITH]-> Bob\n",
      "Alice -[FRIENDS_WITH]-> Bob\n",
      "Alice -[FRIENDS_WITH]-> Bob\n",
      "Alice -[FRIENDS_WITH]-> Bob\n",
      "Alice -[FRIENDS_WITH]-> Bob\n",
      "Alice -[FRIENDS_WITH]-> Bob\n",
      "Alice -[FRIENDS_WITH]-> Bob\n",
      "Alice -[FRIENDS_WITH]-> Bob\n",
      "Alice -[FRIENDS_WITH]-> Bob\n",
      "Alice -[FRIENDS_WITH]-> Bob\n",
      "Alice -[FRIENDS_WITH]-> Bob\n",
      "Alice -[FRIENDS_WITH]-> Bob\n",
      "Alice -[FRIENDS_WITH]-> Bob\n",
      "Alice -[FRIENDS_WITH]-> Bob\n",
      "Alice -[FRIENDS_WITH]-> Bob\n",
      "Alice -[FRIENDS_WITH]-> Bob\n",
      "Alice -[FRIENDS_WITH]-> Bob\n",
      "Alice -[FRIENDS_WITH]-> Bob\n",
      "Alice -[FRIENDS_WITH]-> Bob\n",
      "Alice -[FRIENDS_WITH]-> Bob\n",
      "Alice -[FRIENDS_WITH]-> Bob\n",
      "Alice -[FRIENDS_WITH]-> Bob\n",
      "Alice -[FRIENDS_WITH]-> Bob\n",
      "Alice -[FRIENDS_WITH]-> Bob\n",
      "Alice -[FRIENDS_WITH]-> Bob\n",
      "Alice -[FRIENDS_WITH]-> Bob\n",
      "Alice -[FRIENDS_WITH]-> Bob\n",
      "Alice -[FRIENDS_WITH]-> Bob\n",
      "Alice -[FRIENDS_WITH]-> Bob\n",
      "Alice -[FRIENDS_WITH]-> Bob\n",
      "Alice -[FRIENDS_WITH]-> Bob\n",
      "Alice -[FRIENDS_WITH]-> Bob\n",
      "Alice -[FRIENDS_WITH]-> Bob\n",
      "Alice -[FRIENDS_WITH]-> Bob\n",
      "Alice -[FRIENDS_WITH]-> Bob\n",
      "Alice -[FRIENDS_WITH]-> Bob\n",
      "Alice -[FRIENDS_WITH]-> Bob\n",
      "Alice -[FRIENDS_WITH]-> Bob\n",
      "Alice -[FRIENDS_WITH]-> Bob\n",
      "Alice -[FRIENDS_WITH]-> Bob\n",
      "Alice -[FRIENDS_WITH]-> Bob\n",
      "Alice -[FRIENDS_WITH]-> Bob\n",
      "Alice -[FRIENDS_WITH]-> Bob\n",
      "Alice -[FRIENDS_WITH]-> Bob\n",
      "Alice -[FRIENDS_WITH]-> Bob\n",
      "Alice -[FRIENDS_WITH]-> Bob\n",
      "Alice -[FRIENDS_WITH]-> Bob\n",
      "Alice -[FRIENDS_WITH]-> Bob\n",
      "Alice -[FRIENDS_WITH]-> Bob\n",
      "Alice -[FRIENDS_WITH]-> Bob\n",
      "Alice -[FRIENDS_WITH]-> Bob\n",
      "Alice -[FRIENDS_WITH]-> Bob\n",
      "Alice -[FRIENDS_WITH]-> Bob\n",
      "Alice -[FRIENDS_WITH]-> Bob\n",
      "Alice -[FRIENDS_WITH]-> Bob\n",
      "Alice -[FRIENDS_WITH]-> Bob\n",
      "Alice -[FRIENDS_WITH]-> Bob\n",
      "Alice -[FRIENDS_WITH]-> Bob\n",
      "Alice -[FRIENDS_WITH]-> Bob\n",
      "Alice -[FRIENDS_WITH]-> Bob\n",
      "Alice -[FRIENDS_WITH]-> Bob\n",
      "Alice -[FRIENDS_WITH]-> Bob\n",
      "Alice -[FRIENDS_WITH]-> Bob\n",
      "Alice -[FRIENDS_WITH]-> Bob\n",
      "Alice -[FRIENDS_WITH]-> Bob\n",
      "Alice -[FRIENDS_WITH]-> Bob\n",
      "Alice -[FRIENDS_WITH]-> Bob\n",
      "Alice -[FRIENDS_WITH]-> Bob\n",
      "Alice -[FRIENDS_WITH]-> Bob\n",
      "Alice -[FRIENDS_WITH]-> Bob\n",
      "Alice -[FRIENDS_WITH]-> Bob\n",
      "Alice -[FRIENDS_WITH]-> Bob\n"
     ]
    }
   ],
   "source": [
    "fetch_relationships_query = \"\"\"\n",
    "MATCH (a)-[r]->(b) \n",
    "RETURN a.name AS from, type(r) AS relationship, b.name AS to\n",
    "\"\"\"\n",
    "\n",
    "with db.driver.session() as session:\n",
    "    result = session.run(fetch_relationships_query)\n",
    "    records = list(result)  \n",
    "\n",
    "for record in records:\n",
    "    print(f\"{record['from']} -[{record['relationship']}]-> {record['to']}\")"
   ]
  },
  {
   "cell_type": "code",
   "execution_count": 12,
   "id": "0d7aa2b0-ad8b-4206-a09d-f6518e6ac963",
   "metadata": {},
   "outputs": [
    {
     "name": "stdout",
     "output_type": "stream",
     "text": [
      "Node Updated\n"
     ]
    }
   ],
   "source": [
    "update_query = \"\"\"\n",
    "MATCH (p:Person {name: 'Alice'})\n",
    "SET p.age = 26\n",
    "\"\"\"\n",
    "db.run_query(update_query)\n",
    "print(\"Node Updated\")"
   ]
  },
  {
   "cell_type": "code",
   "execution_count": 13,
   "id": "b2228042-062e-4564-96e2-ee29688fa82c",
   "metadata": {},
   "outputs": [
    {
     "name": "stdout",
     "output_type": "stream",
     "text": [
      "Connection Closed\n"
     ]
    }
   ],
   "source": [
    "db.close()\n",
    "print(\"Connection Closed\")"
   ]
  },
  {
   "cell_type": "code",
   "execution_count": null,
   "id": "4a9701d7-683d-4d80-91a7-40ea8c59241f",
   "metadata": {},
   "outputs": [],
   "source": []
  }
 ],
 "metadata": {
  "kernelspec": {
   "display_name": "Python 3 (ipykernel)",
   "language": "python",
   "name": "python3"
  },
  "language_info": {
   "codemirror_mode": {
    "name": "ipython",
    "version": 3
   },
   "file_extension": ".py",
   "mimetype": "text/x-python",
   "name": "python",
   "nbconvert_exporter": "python",
   "pygments_lexer": "ipython3",
   "version": "3.12.4"
  }
 },
 "nbformat": 4,
 "nbformat_minor": 5
}
